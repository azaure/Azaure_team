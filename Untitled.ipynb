
import numpy as np
from copy import copy
from numpy.linalg import inv
from matplotlib import pyplot as plt
from multiprocessing import Pool
from time import time
from scipy.special import ellipkinc, ellipeinc
